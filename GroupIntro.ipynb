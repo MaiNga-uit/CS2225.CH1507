{
  "nbformat": 4,
  "nbformat_minor": 0,
  "metadata": {
    "colab": {
      "name": "GroupIntro.ipynb",
      "provenance": [],
      "collapsed_sections": [],
      "toc_visible": true,
      "include_colab_link": true
    },
    "kernelspec": {
      "name": "python3",
      "display_name": "Python 3"
    }
  },
  "cells": [
    {
      "cell_type": "markdown",
      "metadata": {
        "id": "view-in-github",
        "colab_type": "text"
      },
      "source": [
        "<a href=\"https://colab.research.google.com/github/MaiNga-uit/CS2225.CH1507/blob/master/GroupIntro.ipynb\" target=\"_parent\"><img src=\"https://colab.research.google.com/assets/colab-badge.svg\" alt=\"Open In Colab\"/></a>"
      ]
    },
    {
      "cell_type": "code",
      "metadata": {
        "id": "Fza9F-i4j6E4"
      },
      "source": [
        ""
      ],
      "execution_count": null,
      "outputs": []
    },
    {
      "cell_type": "markdown",
      "metadata": {
        "id": "rqQsjX0IgnPR"
      },
      "source": [
        "Thành viên nhóm 7:\n",
        "\n",
        "Mai Phương Nga - CH2001010 - Trưởng nhóm <br>\n",
        "Nguyễn Như Thanh - CH2001015 <br>\n",
        "Trần Hiếu Đại - CH2001001 <br>"
      ]
    },
    {
      "cell_type": "markdown",
      "metadata": {
        "id": "y1ao4UwDqvIe"
      },
      "source": [
        "# Mô tả đồ án\n",
        "\n",
        "1. Tên đề tài: Nhận dạng trái cây dựa trên hình ảnh.\n",
        "\n",
        "2. Mô tả đề tài: Xây dựng một ứng dụng giúp nhận dạng một trong 6 loại loại trái cây là thanh long, măng cụt, mận, ổi, xoài, khế. \n",
        "\t\n",
        "\tInput: Ảnh chỉ chứa 1 loại trái cây trong 6 loại trái cây.\n",
        "\t\n",
        "\tOutput: Khoanh vùng trái cây trong hình và cho biết thông tin đánh giá về nó.\n",
        "\t\t\n",
        "3. Công cụ:\n",
        "\tGoogle Colab, Tensorflow, Roboflow.\n",
        "\t\n",
        "4. Kiến thức liên quan:\n",
        "\tImage processing\n",
        "\tObject Detection\n",
        "\tEfficient Model\n",
        "\n",
        "5. Bảng kế hoạch:\n",
        "\t\n",
        "  Phase 1: 2 week\n",
        "\t\tInvestigate base knowledge about computer vision system\n",
        "\t\tAssignee: All members\n",
        "\tPhase 2: 3 weeks\n",
        "\t\tLearn python\n",
        "\t\tInvestigate object detection problems and practice.\n",
        "\t\tAssignee: All members\n",
        "\tPhase 3: 3 weeks\n",
        "\t\tBuild training system (modelling and classification)\n",
        "\t\tAssignee: All members"
      ]
    }
  ]
}