{
  "nbformat": 4,
  "nbformat_minor": 0,
  "metadata": {
    "colab": {
      "name": "[CS2225]Testing_6_fruits_detection_model_with_multiple_images.ipynb",
      "provenance": [],
      "collapsed_sections": [],
      "toc_visible": true,
      "include_colab_link": true
    },
    "kernelspec": {
      "display_name": "Python 3",
      "name": "python3"
    }
  },
  "cells": [
    {
      "cell_type": "markdown",
      "metadata": {
        "id": "view-in-github",
        "colab_type": "text"
      },
      "source": [
        "<a href=\"https://colab.research.google.com/github/MaiNga-uit/CS2225.CH1507/blob/master/source_code/%5BCS2225%5DTesting_6_fruits_detection_model_with_multiple_images.ipynb\" target=\"_parent\"><img src=\"https://colab.research.google.com/assets/colab-badge.svg\" alt=\"Open In Colab\"/></a>"
      ]
    },
    {
      "cell_type": "markdown",
      "metadata": {
        "id": "2fzyRjnWfblz"
      },
      "source": [
        "#1. Download model đã được nhóm train sẵn và upload lên goodle drive:\r\n"
      ]
    },
    {
      "cell_type": "code",
      "metadata": {
        "id": "psK2ukEBr9ZJ"
      },
      "source": [
        "import gdown\r\n",
        "\r\n",
        "modelUrl = 'https://drive.google.com/uc?id=17F6ARN39yEebwc9l3_04JeaCrsyUV-zk' #URL cố định dùng để download.\r\n",
        "output = '/content/trained_model.zip' \r\n",
        "gdown.download(modelUrl, output, quiet=False)\r\n",
        "\r\n",
        "!unzip -o '/content/trained_model.zip' -d '/content/'\r\n",
        "!rm -r '/content/trained_model.zip'"
      ],
      "execution_count": null,
      "outputs": []
    },
    {
      "cell_type": "markdown",
      "metadata": {
        "id": "Qf5T0Bb-fQbR"
      },
      "source": [
        "#2. Cài đặt Object detection API:"
      ]
    },
    {
      "cell_type": "code",
      "metadata": {
        "id": "15AQ51l2rgIA"
      },
      "source": [
        "import os\r\n",
        "import pathlib\r\n",
        "\r\n",
        "# Clone the tensorflow models repository về máy\r\n",
        "if \"models\" in pathlib.Path.cwd().parts:\r\n",
        "  while \"models\" in pathlib.Path.cwd().parts:\r\n",
        "    os.chdir('..')\r\n",
        "elif not pathlib.Path('models').exists():\r\n",
        "  !git clone --depth 1 https://github.com/tensorflow/models\r\n"
      ],
      "execution_count": null,
      "outputs": []
    },
    {
      "cell_type": "code",
      "metadata": {
        "id": "fCY_pbGfU75B"
      },
      "source": [
        "#Install object detection api\r\n",
        "# Có thể có 1 số error do lỗi không tương thích, vẫn có thể đi tiếp được\r\n",
        "%%bash\r\n",
        "cd models/research/\r\n",
        "protoc object_detection/protos/*.proto --python_out=.\r\n",
        "cp object_detection/packages/tf2/setup.py .\r\n",
        "python -m pip install ."
      ],
      "execution_count": null,
      "outputs": []
    },
    {
      "cell_type": "markdown",
      "metadata": {
        "id": "vq0INa69gip6"
      },
      "source": [
        "#3. Import thư viện và config cần thiết trước khi run test:\r\n",
        "\r\n"
      ]
    },
    {
      "cell_type": "code",
      "metadata": {
        "id": "EI6cNw3orpDS"
      },
      "source": [
        "import matplotlib\r\n",
        "import matplotlib.pyplot as plt\r\n",
        "\r\n",
        "import os\r\n",
        "import random\r\n",
        "import io\r\n",
        "import imageio\r\n",
        "import glob\r\n",
        "import scipy.misc\r\n",
        "import numpy as np\r\n",
        "from six import BytesIO\r\n",
        "from PIL import Image, ImageDraw, ImageFont\r\n",
        "from IPython.display import display, Javascript\r\n",
        "from IPython.display import Image as IPyImage\r\n",
        "\r\n",
        "import tensorflow as tf\r\n",
        "\r\n",
        "from object_detection.utils import label_map_util\r\n",
        "from object_detection.utils import config_util\r\n",
        "from object_detection.utils import visualization_utils as viz_utils\r\n",
        "from object_detection.utils import colab_utils\r\n",
        "from object_detection.builders import model_builder\r\n",
        "\r\n",
        "!pip install python-resize-image\r\n",
        "\r\n",
        "%matplotlib inline\r\n"
      ],
      "execution_count": null,
      "outputs": []
    },
    {
      "cell_type": "code",
      "metadata": {
        "id": "V2OceXA9r0_a"
      },
      "source": [
        "#Hàm load image\r\n",
        "def load_image_into_numpy_array(path):\r\n",
        "  \"\"\"Load an image from file into a numpy array.\r\n",
        "\r\n",
        "  Puts image into numpy array to feed into tensorflow graph.\r\n",
        "  Note that by convention we put it into a numpy array with shape\r\n",
        "  (height, width, channels), where channels=3 for RGB.\r\n",
        "\r\n",
        "  Args:\r\n",
        "    path: the file path to the image\r\n",
        "\r\n",
        "  Returns:\r\n",
        "    uint8 numpy array with shape (img_height, img_width, 3)\r\n",
        "  \"\"\"\r\n",
        "  img_data = tf.io.gfile.GFile(path, 'rb').read()\r\n",
        "  image = Image.open(BytesIO(img_data))\r\n",
        "  (im_width, im_height) = image.size\r\n",
        "  return np.array(image.getdata()).reshape(\r\n",
        "      (im_height, im_width, 3)).astype(np.uint8)"
      ],
      "execution_count": null,
      "outputs": []
    },
    {
      "cell_type": "code",
      "metadata": {
        "id": "jq6Mv5PIr47v"
      },
      "source": [
        "pipeline_file = '/content/CS2225/output_model/pipeline.config'\r\n",
        "#recover our saved model\r\n",
        "pipeline_config = pipeline_file\r\n",
        "\r\n",
        "#Model checkpoint\r\n",
        "model_dir = '/content/CS2225/output_model/checkpoint/ckpt-0'\r\n",
        "configs = config_util.get_configs_from_pipeline_file(pipeline_file)\r\n",
        "model_config = configs['model']\r\n",
        "detection_model = model_builder.build(\r\n",
        "      model_config=model_config, is_training=False)\r\n",
        "\r\n",
        "# Restore checkpoint\r\n",
        "ckpt = tf.compat.v2.train.Checkpoint(\r\n",
        "      model=detection_model)\r\n",
        "ckpt.restore(os.path.join('/content/CS2225/output_model/checkpoint/ckpt-0'))\r\n",
        "\r\n",
        "\r\n",
        "def get_model_detection_function(model):\r\n",
        "  \"\"\"Get a tf.function for detection.\"\"\"\r\n",
        "\r\n",
        "  @tf.function\r\n",
        "  def detect_fn(image):\r\n",
        "    \"\"\"Detect objects in image.\"\"\"\r\n",
        "\r\n",
        "    image, shapes = model.preprocess(image)\r\n",
        "    prediction_dict = model.predict(image, shapes)\r\n",
        "    detections = model.postprocess(prediction_dict, shapes)\r\n",
        "\r\n",
        "    return detections, prediction_dict, tf.reshape(shapes, [-1])\r\n",
        "\r\n",
        "  return detect_fn\r\n",
        "\r\n",
        "detect_fn = get_model_detection_function(detection_model)"
      ],
      "execution_count": null,
      "outputs": []
    },
    {
      "cell_type": "code",
      "metadata": {
        "id": "qpmt6bFA1a_e"
      },
      "source": [
        "#Load label map\r\n",
        "label_map_path = configs['eval_input_config'].label_map_path\r\n",
        "label_map = label_map_util.load_labelmap('/content/CS2225/fruit_label_map.pbtxt')\r\n",
        "categories = label_map_util.convert_label_map_to_categories(\r\n",
        "    label_map,\r\n",
        "    max_num_classes=label_map_util.get_max_label_map_index(label_map),\r\n",
        "    use_display_name=True)\r\n",
        "category_index = label_map_util.create_category_index(categories)\r\n",
        "label_map_dict = label_map_util.get_label_map_dict(label_map, use_display_name=True)"
      ],
      "execution_count": null,
      "outputs": []
    },
    {
      "cell_type": "markdown",
      "metadata": {
        "id": "ZyAgxT5eg6Jd"
      },
      "source": [
        "#4. Cách test 1: test bằng cách input 01 hình ảnh:\r\n",
        "* **Note**: \r\n",
        "   * có 3 cách test: \r\n",
        "    *   input 1 hình ảnh, output hiển thị trực tiếp ngay phía dưới đoạn code\r\n",
        "    *   chụp hình từ webcam (xem mục số 5)\r\n",
        "    *   input 1 folder có chứa ảnh, kết quả sẽ được ghi vào folder /content/test_result (xem mục số 6)\r\n",
        "\r\n",
        "   * Lần đầu run thì output sẽ chậm\r\n",
        "\r\n",
        "\r\n",
        "* Trong folder **'CS2225/test_images/'** **(folder này đã được download ở mục 2)** nhóm đã chuẩn bị sẵn 1 số hình ngẫu nhiên để thuận tiện việc test.\r\n"
      ]
    },
    {
      "cell_type": "code",
      "metadata": {
        "id": "82uQG5G-LSmt"
      },
      "source": [
        "import random\r\n",
        "import glob\r\n",
        "import cv2\r\n",
        "from resizeimage import resizeimage\r\n",
        "\r\n",
        "#Randomly chọn hình ảnh trong folder CS2225/test_images\r\n",
        "TEST_IMAGE_PATHS = glob.glob('/content/CS2225/test_images/*.jpg')\r\n",
        "img = random.choice(TEST_IMAGE_PATHS)\r\n",
        "# img = '/content/CS2225/test_images/thanhlong_2.jpg'\r\n",
        "\r\n",
        "# with open(img, 'r+b') as f:\r\n",
        "#     with Image.open(f) as image:\r\n",
        "#         cover = resizeimage.resize_cover(image, [300, 300])\r\n",
        "#         cover.save('/content/resized_test_img.jpg', image.format)\r\n",
        "\r\n",
        "# resized_img = '/content/resized_test_img.jpg'\r\n",
        "\r\n",
        "image_np = load_image_into_numpy_array(img)\r\n",
        "input_tensor = tf.convert_to_tensor(\r\n",
        "    np.expand_dims(image_np, 0), dtype=tf.float32)\r\n",
        "detections, predictions_dict, shapes = detect_fn(input_tensor)\r\n",
        "\r\n",
        "label_id_offset = 1\r\n",
        "image_np_with_detections = image_np.copy()\r\n",
        "\r\n",
        "viz_utils.visualize_boxes_and_labels_on_image_array(\r\n",
        "      image_np_with_detections,\r\n",
        "      detections['detection_boxes'][0].numpy(),\r\n",
        "      (detections['detection_classes'][0].numpy() + label_id_offset).astype(int),\r\n",
        "      detections['detection_scores'][0].numpy(),\r\n",
        "      category_index,\r\n",
        "      use_normalized_coordinates=True,\r\n",
        "      max_boxes_to_draw=200,\r\n",
        "      min_score_thresh=.6,\r\n",
        "      agnostic_mode=False,\r\n",
        "      line_thickness=7\r\n",
        ")\r\n",
        "\r\n",
        "plt.figure(figsize=(12,16))\r\n",
        "plt.imshow(image_np_with_detections)\r\n",
        "plt.show()"
      ],
      "execution_count": null,
      "outputs": []
    },
    {
      "cell_type": "markdown",
      "metadata": {
        "id": "7FnO2TsJjjNY"
      },
      "source": [
        "#5. Cách test 2: Lấy hình được chụp từ webcam\r\n",
        "* Webcam sẽ được bật, click 1 click để chụp hình từ webcam\r\n",
        "* Output: hình ảnh được chụp cùng với bounding box, label name, score"
      ]
    },
    {
      "cell_type": "code",
      "metadata": {
        "id": "svidlLt0kL-a"
      },
      "source": [
        "# Define hàm take_photo: làm nhiệm vụ bật webcam & chụp hình\r\n",
        "from IPython.display import HTML, Audio\r\n",
        "from google.colab.output import eval_js\r\n",
        "from base64 import b64decode\r\n",
        "import numpy as np\r\n",
        "import io\r\n",
        "from PIL import Image\r\n",
        "\r\n",
        "VIDEO_HTML = \"\"\"\r\n",
        "<div class=\"video_container\">\r\n",
        "  <video autoplay\r\n",
        "   width=%d height=%d></video>\r\n",
        "  <div style='position: absolute;top: 40px; left: 40px; font-size: 40px; color: green;'>Click to save!</div>\r\n",
        "</div>\r\n",
        "<script>\r\n",
        "var video = document.querySelector('video')\r\n",
        "navigator.mediaDevices.getUserMedia({ video: true })\r\n",
        "  .then(stream=> video.srcObject = stream)\r\n",
        "  \r\n",
        "var data = new Promise(resolve=>{\r\n",
        "  video.onclick = ()=>{\r\n",
        "    var canvas = document.createElement('canvas')\r\n",
        "    var [w,h] = [video.offsetWidth, video.offsetHeight]\r\n",
        "    canvas.width = w\r\n",
        "    canvas.height = h\r\n",
        "    canvas.getContext('2d')\r\n",
        "          .drawImage(video, 0, 0, w, h)\r\n",
        "    video.srcObject.getVideoTracks()[0].stop()\r\n",
        "    video.replaceWith(canvas)\r\n",
        "    resolve(canvas.toDataURL('image/jpeg', %f))\r\n",
        "  }\r\n",
        "})\r\n",
        "</script>\r\n",
        "\"\"\"\r\n",
        "OUTPUT_IMG_FROM_WEBCAM_PATH = '/content/test_img.jpg'\r\n",
        "def take_photo(filename=OUTPUT_IMG_FROM_WEBCAM_PATH, quality=0.8, size=(800,600)):\r\n",
        "  handle = display(HTML(VIDEO_HTML % (size[0],size[1],quality)), display_id='videoHTML')\r\n",
        "  data = eval_js(\"data\")\r\n",
        "  binary = b64decode(data.split(',')[1])\r\n",
        "  \r\n",
        "  if filename:\r\n",
        "    f = io.BytesIO(binary)\r\n",
        "    Image.open(f).save(filename)\r\n",
        "  else:\r\n",
        "    f = io.BytesIO(binary)\r\n",
        "    return np.asarray(Image.open(f))"
      ],
      "execution_count": null,
      "outputs": []
    },
    {
      "cell_type": "code",
      "metadata": {
        "id": "RALFP6O2kYJq"
      },
      "source": [
        "import random\r\n",
        "import glob\r\n",
        "import cv2\r\n",
        "\r\n",
        "take_photo()\r\n",
        "img = OUTPUT_IMG_FROM_WEBCAM_PATH\r\n",
        "image_np = load_image_into_numpy_array(img)\r\n",
        "\r\n",
        "# Things to try:\r\n",
        "# Flip horizontally\r\n",
        "# image_np = np.fliplr(image_np).copy()\r\n",
        "\r\n",
        "# Convert image to grayscale\r\n",
        "# image_np = np.tile(\r\n",
        "#     np.mean(image_np, 2, keepdims=True), (1, 1, 3)).astype(np.uint8)\r\n",
        "\r\n",
        "input_tensor = tf.convert_to_tensor(\r\n",
        "    np.expand_dims(image_np, 0), dtype=tf.float32)\r\n",
        "detections, predictions_dict, shapes = detect_fn(input_tensor)\r\n",
        "\r\n",
        "label_id_offset = 1\r\n",
        "image_np_with_detections = image_np.copy()\r\n",
        "\r\n",
        "viz_utils.visualize_boxes_and_labels_on_image_array(\r\n",
        "      image_np_with_detections,\r\n",
        "      detections['detection_boxes'][0].numpy(),\r\n",
        "      (detections['detection_classes'][0].numpy() + label_id_offset).astype(int),\r\n",
        "      detections['detection_scores'][0].numpy(),\r\n",
        "      category_index,\r\n",
        "      use_normalized_coordinates=True,\r\n",
        "      max_boxes_to_draw=200,\r\n",
        "      min_score_thresh=.6,\r\n",
        "      agnostic_mode=False,\r\n",
        "      line_thickness=12\r\n",
        ")\r\n",
        "\r\n",
        "plt.figure(figsize=(12,16))\r\n",
        "plt.imshow(image_np_with_detections)\r\n",
        "plt.show()"
      ],
      "execution_count": null,
      "outputs": []
    },
    {
      "cell_type": "markdown",
      "metadata": {
        "id": "iUokJg3nJJNn"
      },
      "source": [
        "#6. Cách test 3: Chạy thử nghiệm trên toàn bộ tập ảnh test và lưu vào drive\r\n",
        "* Input: Folder chứa bộ ảnh cần test (kiểu *.jpg)\r\n",
        "* Output: Kết quả detect sẽ được ghi vào folder được chỉ định trong Drive\r\n",
        "\r\n",
        "**Lưu ý:** Thời gian thực hiện tùy thuộc số lượng và độ phân giải của ảnh cần test\r\n",
        "\r\n"
      ]
    },
    {
      "cell_type": "markdown",
      "metadata": {
        "id": "yutd1N7HMMCr"
      },
      "source": [
        "**Khai báo một số phương thức hỗ trợ**"
      ]
    },
    {
      "cell_type": "code",
      "metadata": {
        "id": "nw_VNYoMKVac"
      },
      "source": [
        "def writeToFile(dir, name):\r\n",
        "  out_dir = dir\r\n",
        "  img_name = name\r\n",
        "\r\n",
        "  json_string = json.dumps(selected_dict)\r\n",
        "  output_img_name = img_name\r\n",
        "  out_json = out_dir + output_img_name + \".json\"\r\n",
        "  myfile = open(out_json, \"w\")\r\n",
        "  print(json_string, file=myfile)\r\n",
        "  myfile.close()\r\n",
        "\r\n",
        "  out_img = out_dir + img_name + \".jpg\"\r\n",
        "\r\n",
        "  im_rgb = cv2.cvtColor(image_np_with_detections, cv2.COLOR_BGR2RGB)\r\n",
        "  cv2.imwrite(out_img, im_rgb)"
      ],
      "execution_count": null,
      "outputs": []
    },
    {
      "cell_type": "code",
      "metadata": {
        "id": "oOS17y6WKeyN"
      },
      "source": [
        "import cv2\r\n",
        "import os\r\n",
        "\r\n",
        "def load_filename_from_folder(folder):\r\n",
        "    names = []\r\n",
        "    for basename in os.listdir(folder):\r\n",
        "      names.append( os.path.splitext(basename)[0])\r\n",
        "    return names"
      ],
      "execution_count": null,
      "outputs": []
    },
    {
      "cell_type": "code",
      "metadata": {
        "id": "fA2_OprOMXgD"
      },
      "source": [
        "\r\n",
        "# create folder to save output\r\n",
        "# just execute once\r\n",
        "# this is used to create new directory for testing base on current date time\r\n",
        "import os.path\r\n",
        "from os import path\r\n",
        "from datetime import datetime\r\n",
        "\r\n",
        "now = datetime.now()\r\n",
        "dt_string = now.strftime(\"%Y%m%d_%H%M%S\")\r\n",
        "\r\n",
        "main_test_result_dir = \"/content/test_result\"\r\n",
        "if path.exists(main_test_result_dir) == False:\r\n",
        "  os.mkdir(main_test_result_dir)\r\n",
        "\r\n",
        "auto_directoryname = \"v_\" + dt_string;\r\n",
        "test_result_dir = main_test_result_dir + \"/\" + auto_directoryname\r\n",
        "drive_auto_dir = auto_directoryname\r\n",
        "os.mkdir(test_result_dir)"
      ],
      "execution_count": null,
      "outputs": []
    },
    {
      "cell_type": "code",
      "metadata": {
        "id": "sjyknJYkKfaF"
      },
      "source": [
        "import random\r\n",
        "import glob\r\n",
        "import cv2\r\n",
        "import json\r\n",
        "from resizeimage import resizeimage\r\n",
        "from object_detection.utils import label_map_util\r\n",
        "from object_detection.utils import config_util\r\n",
        "from object_detection.builders import model_builder\r\n",
        "\r\n",
        "images = load_filename_from_folder(\"/content/CS2225/test_images/\")\r\n",
        "\r\n",
        "for img_name in images:\r\n",
        "  #img_name = 'val_thanhlong_5'\r\n",
        "  img = '/content/CS2225/test_images/' + img_name + '.jpg'\r\n",
        "\r\n",
        "  # with open(img, 'r+b') as f:\r\n",
        "  #     with Image.open(f) as image:\r\n",
        "  #         cover = resizeimage.resize_cover(image, [300, 300])\r\n",
        "  #         cover.save('/content/resized_test_img.jpg', image.format)\r\n",
        "\r\n",
        "  # resized_img = '/content/resized_test_img.jpg'\r\n",
        "\r\n",
        "  image_np = load_image_into_numpy_array(img)\r\n",
        "  input_tensor = tf.convert_to_tensor(\r\n",
        "      np.expand_dims(image_np, 0), dtype=tf.float32)\r\n",
        "  detections, predictions_dict, shapes = detect_fn(input_tensor)\r\n",
        "\r\n",
        "  label_id_offset = 1\r\n",
        "  image_np_with_detections = image_np.copy()\r\n",
        "\r\n",
        "  viz_utils.visualize_boxes_and_labels_on_image_array(\r\n",
        "        image_np_with_detections,\r\n",
        "        detections['detection_boxes'][0].numpy(),\r\n",
        "        (detections['detection_classes'][0].numpy() + label_id_offset).astype(int),\r\n",
        "        detections['detection_scores'][0].numpy(),\r\n",
        "        category_index,\r\n",
        "        use_normalized_coordinates=True,\r\n",
        "        max_boxes_to_draw=200,\r\n",
        "        min_score_thresh=.6,\r\n",
        "        agnostic_mode=False,\r\n",
        "        line_thickness=7\r\n",
        "  )\r\n",
        "\r\n",
        "  plt.figure(figsize=(12,16))\r\n",
        "  # plt.imshow(image_np_with_detections)\r\n",
        "  # print((detections['detection_classes'][0].numpy() + label_id_offset).astype(int))\r\n",
        "  # plt.show()\r\n",
        "\r\n",
        "  # All outputs are batches tensors.\r\n",
        "  # Convert to numpy arrays, and take index [0] to remove the batch dimension.\r\n",
        "  # We're only interested in the first num_detections.\r\n",
        "  num_detections = int(detections.pop('num_detections'))\r\n",
        "  # num_detections = int(detections.pop('num_detections'))\r\n",
        "  detection_index = (detections['detection_classes'][0].numpy() + label_id_offset).astype(int)\r\n",
        "\r\n",
        "  detections = {key: value[0, :num_detections].numpy() for key, value in detections.items()}\r\n",
        "  detections['num_detections'] = num_detections\r\n",
        "\r\n",
        "  # detection_classes should be ints.\r\n",
        "  detections['detection_classes'] = detections['detection_classes'].astype(np.int64)\r\n",
        "\r\n",
        "  height, width, color = image_np.shape\r\n",
        "\r\n",
        "  selected_dict= dict()\r\n",
        "  selected_dict['objects'] = []\r\n",
        "  score_threshold = 0.5\r\n",
        "  for i in range(num_detections):\r\n",
        "      if detections['detection_scores'][i] > score_threshold:\r\n",
        "          bbox_list = list(detections['detection_boxes'][i])\r\n",
        "          bbox_list[0]=int(round(bbox_list[0]*height))\r\n",
        "          bbox_list[1]=int(round(bbox_list[1]*width))\r\n",
        "          bbox_list[2]=int(round(bbox_list[2]*height))\r\n",
        "          bbox_list[3]=int(round(bbox_list[3]*width))\r\n",
        "          selected_dict['objects'].append({\r\n",
        "              'label' : category_index[detection_index[i]]['name'],\r\n",
        "              'bbox' : bbox_list,\r\n",
        "              'score' : float(detections['detection_scores'][i])\r\n",
        "              })\r\n",
        "\r\n",
        "  # print(selected_dict)\r\n",
        "\r\n",
        "\r\n",
        "  writeToFile(test_result_dir, img_name)"
      ],
      "execution_count": null,
      "outputs": []
    },
    {
      "cell_type": "code",
      "metadata": {
        "id": "egQR3AxUKjyB"
      },
      "source": [
        "from google.colab import drive\r\n",
        "drive.mount('/content/drive')"
      ],
      "execution_count": null,
      "outputs": []
    },
    {
      "cell_type": "code",
      "metadata": {
        "id": "dDdTH5APKn3H"
      },
      "source": [
        "from google.colab import drive\r\n",
        "\r\n",
        "import shutil\r\n",
        "\r\n",
        "source = test_result_dir\r\n",
        "destination = \"/content/drive/MyDrive/CS2225/test_result/\" + drive_auto_dir\r\n",
        "shutil.copytree(source, destination)"
      ],
      "execution_count": null,
      "outputs": []
    }
  ]
}